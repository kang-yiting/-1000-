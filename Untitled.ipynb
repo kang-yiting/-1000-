{
 "cells": [
  {
   "cell_type": "code",
   "execution_count": 60,
   "metadata": {},
   "outputs": [
    {
     "name": "stdout",
     "output_type": "stream",
     "text": [
      "[168, 157, 184, 172, 143, 176]\n",
      "file://C:/Users/kang/AppData/Local/Temp/tmpl150mx8e.html\n",
      "[162, 171, 162, 156, 174, 175]\n",
      "file://C:/Users/kang/AppData/Local/Temp/tmp1rrjdt2f.html\n"
     ]
    }
   ],
   "source": [
    "from random import randint\n",
    "import pygal\n",
    "import pandas as pd\n",
    "r = []  #骰子總數\n",
    "\n",
    "def rollDice():\n",
    "    numSides = 6\n",
    "    pointList = []\n",
    "    rateList = []\n",
    "    \n",
    "    for i in range(1000):\n",
    "        pointList.append(randint(1, numSides))\n",
    "    \n",
    "    \n",
    "    for pt in range(1, numSides+1):\n",
    "        pointTimes = pointList.count(pt)\n",
    "        rateList.append(pointTimes)\n",
    "        r.append(pointTimes)\n",
    "    print(rateList)\n",
    "    \n",
    "    \n",
    "    barGh = pygal.Bar()\n",
    "    barGh.title = \"Result of rolling Dice 1000 times\"\n",
    "    barGh.x_labels = [\"1\", \"2\", \"3\", \"4\", \"5\", \"6\"]\n",
    "    barGh.x_title = \"Result\"\n",
    "    barGh.y_title = \"Frequency of Result\"\n",
    "    barGh.add(\"骰子出現次數\", rateList)\n",
    "    barGh.render_in_browser()\n",
    "\n",
    "rollDice()\n",
    "rollDice()"
   ]
  },
  {
   "cell_type": "code",
   "execution_count": 61,
   "metadata": {},
   "outputs": [
    {
     "data": {
      "text/html": [
       "<div>\n",
       "<style scoped>\n",
       "    .dataframe tbody tr th:only-of-type {\n",
       "        vertical-align: middle;\n",
       "    }\n",
       "\n",
       "    .dataframe tbody tr th {\n",
       "        vertical-align: top;\n",
       "    }\n",
       "\n",
       "    .dataframe thead th {\n",
       "        text-align: right;\n",
       "    }\n",
       "</style>\n",
       "<table border=\"1\" class=\"dataframe\">\n",
       "  <thead>\n",
       "    <tr style=\"text-align: right;\">\n",
       "      <th></th>\n",
       "      <th>次數分布</th>\n",
       "      <th>相對次數</th>\n",
       "    </tr>\n",
       "  </thead>\n",
       "  <tbody>\n",
       "    <tr>\n",
       "      <th>1</th>\n",
       "      <td>330</td>\n",
       "      <td>0.1650</td>\n",
       "    </tr>\n",
       "    <tr>\n",
       "      <th>2</th>\n",
       "      <td>328</td>\n",
       "      <td>0.1640</td>\n",
       "    </tr>\n",
       "    <tr>\n",
       "      <th>3</th>\n",
       "      <td>346</td>\n",
       "      <td>0.1730</td>\n",
       "    </tr>\n",
       "    <tr>\n",
       "      <th>4</th>\n",
       "      <td>328</td>\n",
       "      <td>0.1640</td>\n",
       "    </tr>\n",
       "    <tr>\n",
       "      <th>5</th>\n",
       "      <td>317</td>\n",
       "      <td>0.1585</td>\n",
       "    </tr>\n",
       "    <tr>\n",
       "      <th>6</th>\n",
       "      <td>351</td>\n",
       "      <td>0.1755</td>\n",
       "    </tr>\n",
       "    <tr>\n",
       "      <th>total</th>\n",
       "      <td>2000</td>\n",
       "      <td>1.0000</td>\n",
       "    </tr>\n",
       "  </tbody>\n",
       "</table>\n",
       "</div>"
      ],
      "text/plain": [
       "       次數分布    相對次數\n",
       "1       330  0.1650\n",
       "2       328  0.1640\n",
       "3       346  0.1730\n",
       "4       328  0.1640\n",
       "5       317  0.1585\n",
       "6       351  0.1755\n",
       "total  2000  1.0000"
      ]
     },
     "execution_count": 61,
     "metadata": {},
     "output_type": "execute_result"
    }
   ],
   "source": [
    "name = ['1', '2', '3', '4', '5', '6', 'total']\n",
    "subject = ['次數分布', '相對次數']\n",
    "total = [[(r[0]+r[6]),((r[0]+r[6])/2000)],[(r[1]+r[7]),((r[1]+r[7])/2000)],[(r[2]+r[8]),((r[2]+r[8])/2000)],[(r[3]+r[9]),((r[3]+r[9])/2000)],[(r[4]+r[10]),((r[4]+r[10])/2000)],[(r[5]+r[11]),((r[5]+r[11])/2000)],[2000,1]]\n",
    "df = pd.DataFrame(total, index = name, columns = subject)\n",
    "df\n"
   ]
  },
  {
   "cell_type": "code",
   "execution_count": null,
   "metadata": {},
   "outputs": [],
   "source": []
  }
 ],
 "metadata": {
  "kernelspec": {
   "display_name": "Python 3",
   "language": "python",
   "name": "python3"
  },
  "language_info": {
   "codemirror_mode": {
    "name": "ipython",
    "version": 3
   },
   "file_extension": ".py",
   "mimetype": "text/x-python",
   "name": "python",
   "nbconvert_exporter": "python",
   "pygments_lexer": "ipython3",
   "version": "3.7.3"
  }
 },
 "nbformat": 4,
 "nbformat_minor": 2
}
